{
 "cells": [
  {
   "cell_type": "markdown",
   "source": [
    "# OOP Syntax Exercise - Part 2\n",
    "\n",
    "Now that you've had some practice instantiating objects, it's time to write your own class from scratch. This lesson has two parts. In the first part, you'll write a Pants class. This class is similar to the shirt class with a couple of changes. Then you'll practice instantiating Pants objects\n",
    "\n",
    "In the second part, you'll write another class called SalesPerson. You'll also instantiate objects for the SalesPerson.\n",
    "\n",
    "For this exercise, you can do all of your work in this Jupyter notebook. You will not need to import the class because all of your code will be in this Jupyter notebook.\n",
    "\n",
    "Answers are also provided. If you click on the Jupyter icon, you can open a folder called 2.OOP_syntax_pants_practice, which contains this Jupyter notebook ('exercise.ipynb') and a file called answer.py."
   ],
   "metadata": {}
  },
  {
   "cell_type": "markdown",
   "source": [
    "# Pants class\n",
    "\n",
    "Write a Pants class with the following characteristics:\n",
    "* the class name should be Pants\n",
    "* the class attributes should include\n",
    " * color\n",
    " * waist_size\n",
    " * length\n",
    " * price\n",
    "* the class should have an init function that initializes all of the attributes\n",
    "* the class should have two methods\n",
    " * change_price() a method to change the price attribute\n",
    " * discount() to calculate a discount"
   ],
   "metadata": {}
  },
  {
   "cell_type": "code",
   "execution_count": 6,
   "source": [
    "class Pants:\r\n",
    "    \"\"\"The Pants class represents an article of clothing sold in a store\r\n",
    "    \"\"\"\r\n",
    "\r\n",
    "    def __init__(self, color, waist_size, length, price):\r\n",
    "        \"\"\"Method for initializing a Pants object\r\n",
    "\r\n",
    "        Args: \r\n",
    "            color (str)\r\n",
    "            waist_size (int)\r\n",
    "            length (int)\r\n",
    "            price (float)\r\n",
    "\r\n",
    "        Attributes:\r\n",
    "            color (str): color of a pants object\r\n",
    "            waist_size (str): waist size of a pants object\r\n",
    "            length (str): length of a pants object\r\n",
    "            price (float): price of a pants object\r\n",
    "        \"\"\"\r\n",
    "\r\n",
    "        self.color = color\r\n",
    "        self.waist_size = waist_size\r\n",
    "        self.length = length\r\n",
    "        self.price = price\r\n",
    "\r\n",
    "    def change_price(self, new_price):\r\n",
    "        \"\"\"The change_price method changes the price attribute of a pants object\r\n",
    "\r\n",
    "        Args: \r\n",
    "            new_price (float): the new price of the pants object\r\n",
    "\r\n",
    "        Returns: None\r\n",
    "\r\n",
    "        \"\"\"\r\n",
    "        self.price = new_price\r\n",
    "\r\n",
    "    def discount(self, percentage):\r\n",
    "        \"\"\"The discount method outputs a discounted price of a pants object\r\n",
    "\r\n",
    "        Args:\r\n",
    "            percentage (float): a decimal representing the amount to discount\r\n",
    "\r\n",
    "        Returns:\r\n",
    "            float: the discounted price\r\n",
    "        \"\"\"\r\n",
    "        return self.price * (1 - percentage)"
   ],
   "outputs": [],
   "metadata": {}
  },
  {
   "cell_type": "markdown",
   "source": [
    "# Run the code cell below to check results\n",
    "\n",
    "If you run the next code cell and get an error, then revise your code until the code cell doesn't output anything."
   ],
   "metadata": {}
  },
  {
   "cell_type": "code",
   "execution_count": 7,
   "source": [
    "def check_results():\r\n",
    "    pants = Pants('red', 35, 36, 15.12)\r\n",
    "    assert pants.color == 'red'\r\n",
    "    assert pants.waist_size == 35\r\n",
    "    assert pants.length == 36\r\n",
    "    assert pants.price == 15.12\r\n",
    "    \r\n",
    "    pants.change_price(10) == 10\r\n",
    "    assert pants.price == 10 \r\n",
    "    \r\n",
    "    assert pants.discount(.1) == 9\r\n",
    "    \r\n",
    "    print('You made it to the end of the check. Nice job!')\r\n",
    "\r\n",
    "check_results()"
   ],
   "outputs": [
    {
     "output_type": "stream",
     "name": "stdout",
     "text": [
      "You made it to the end of the check. Nice job!\n"
     ]
    }
   ],
   "metadata": {}
  },
  {
   "cell_type": "markdown",
   "source": [
    "# SalesPerson class\n",
    "\n",
    "The Pants class and Shirt class are quite similar. Here is an exercise to give you more practice writing a class. **This exercise is trickier than the previous exercises.**\n",
    "\n",
    "Write a SalesPerson class with the following characteristics:\n",
    "* the class name should be SalesPerson\n",
    "* the class attributes should include\n",
    " * first_name \n",
    " * last_name\n",
    " * employee_id\n",
    " * salary\n",
    " * pants_sold\n",
    " * total_sales\n",
    "* the class should have an init function that initializes all of the attributes\n",
    "* the class should have four methods\n",
    " * sell_pants() a method to change the price attribute\n",
    " * calculate_sales() a method to calculate the sales\n",
    " * display_sales() a method to print out all the pants sold with nice formatting\n",
    " * calculate_commission() a method to calculate the salesperson commission based on total sales and a percentage"
   ],
   "metadata": {}
  },
  {
   "cell_type": "code",
   "execution_count": 8,
   "source": [
    "class SalesPerson:\r\n",
    "    \"\"\"The SalesPerson class represents an employee in the store\r\n",
    "    \"\"\"\r\n",
    "    def __init__(self, first_name, last_name, empployee_id, salary):\r\n",
    "        \"\"\"Method for initializing a SalesPerson object\r\n",
    "        \r\n",
    "        Args: \r\n",
    "            first_name (str)\r\n",
    "            last_name (str)\r\n",
    "            employee_id (int)\r\n",
    "            salary (float)\r\n",
    "\r\n",
    "        Attributes:\r\n",
    "            first_name (str): first name of the employee\r\n",
    "            last_name (str): last name of the employee\r\n",
    "            employee_id (int): identification number of the employee\r\n",
    "            salary (float): yearly salary of the employee\r\n",
    "            pants_sold (list): a list of pants objects sold by the employee\r\n",
    "            total_sales (float): sum of all sales made by the employee\r\n",
    "\r\n",
    "        \"\"\"\r\n",
    "        self.first_name = first_name\r\n",
    "        self.last_name = last_name\r\n",
    "        self.employee_id = empployee_id\r\n",
    "        self.salary = salary\r\n",
    "        self.pants_sold = []\r\n",
    "        self.total_sales = 0\r\n",
    "\r\n",
    "    def sell_pants(self, pants_object):\r\n",
    "        \"\"\"The sell_pants method appends a pants object to the pants_sold attribute\r\n",
    "\r\n",
    "        Args: \r\n",
    "            pants_object (obj): a pants object that was sold\r\n",
    "\r\n",
    "        Returns: None\r\n",
    "\r\n",
    "        \"\"\"\r\n",
    "        self.pants_sold.append(pants_object)\r\n",
    "\r\n",
    "    def display_sales(self):\r\n",
    "        \"\"\"The display_sales method prints out all pants that have been sold\r\n",
    "\r\n",
    "        Args: None\r\n",
    "\r\n",
    "        Returns: None\r\n",
    "\r\n",
    "        \"\"\"\r\n",
    "        for pants in self.pants_sold:\r\n",
    "            print('color: {}, waist_size: {}, length: {}, price: {}'.format(pants.color, pants.waist_size, pants.length, pants.price))\r\n",
    "\r\n",
    "    def calculate_sales(self):\r\n",
    "        \"\"\"The calculate_sales method sums the total price of all pants sold\r\n",
    "\r\n",
    "        Args: None\r\n",
    "\r\n",
    "        Returns:\r\n",
    "            float: sum of the price for all pants sold\r\n",
    "        \r\n",
    "        \"\"\"\r\n",
    "        total = 0\r\n",
    "        for pants in self.pants_sold:\r\n",
    "            total += pants.price\r\n",
    "\r\n",
    "        self.total_sales = total\r\n",
    "\r\n",
    "        return total\r\n",
    "\r\n",
    "    def calculate_commission(self, percentage):\r\n",
    "        \"\"\"The calculate_commission method outputs the commission based on sales\r\n",
    "\r\n",
    "        Args:\r\n",
    "            percentage (float): the commission percentage as a decimal\r\n",
    "\r\n",
    "        Returns:\r\n",
    "            float: the commission due\r\n",
    "        \"\"\"\r\n",
    "        sales_total = self.calculate_sales()\r\n",
    "        return sales_total * percentage"
   ],
   "outputs": [],
   "metadata": {}
  },
  {
   "cell_type": "markdown",
   "source": [
    "# Run the code cell below to check results\n",
    "\n",
    "If you run the next code cell and get an error, then revise your code until the code cell doesn't output anything."
   ],
   "metadata": {}
  },
  {
   "cell_type": "code",
   "execution_count": 9,
   "source": [
    "def check_results():\r\n",
    "    pants_one = Pants('red', 35, 36, 15.12)\r\n",
    "    pants_two = Pants('blue', 40, 38, 24.12)\r\n",
    "    pants_three = Pants('tan', 28, 30, 8.12)\r\n",
    "    \r\n",
    "    salesperson = SalesPerson('Amy', 'Gonzalez', 2581923, 40000)\r\n",
    "    \r\n",
    "    assert salesperson.first_name == 'Amy'\r\n",
    "    assert salesperson.last_name == 'Gonzalez'\r\n",
    "    assert salesperson.employee_id == 2581923\r\n",
    "    assert salesperson.salary == 40000\r\n",
    "    assert salesperson.pants_sold == []\r\n",
    "    assert salesperson.total_sales == 0\r\n",
    "    \r\n",
    "    salesperson.sell_pants(pants_one)\r\n",
    "    salesperson.pants_sold[0] == pants_one.color\r\n",
    "    \r\n",
    "    salesperson.sell_pants(pants_two)\r\n",
    "    salesperson.sell_pants(pants_three)\r\n",
    "    \r\n",
    "    assert len(salesperson.pants_sold) == 3\r\n",
    "    assert round(salesperson.calculate_sales(),2) == 47.36\r\n",
    "    assert round(salesperson.calculate_commission(.1),2) == 4.74\r\n",
    "    \r\n",
    "    print('Great job, you made it to the end of the code checks!')\r\n",
    "    \r\n",
    "check_results()"
   ],
   "outputs": [
    {
     "output_type": "stream",
     "name": "stdout",
     "text": [
      "Great job, you made it to the end of the code checks!\n"
     ]
    }
   ],
   "metadata": {}
  },
  {
   "cell_type": "markdown",
   "source": [
    "### Check display_sales() method\n",
    "\n",
    "If you run the code cell below, you should get output similar to this:\n",
    "\n",
    "```python\n",
    "color: red, waist_size: 35, length: 36, price: 15.12\n",
    "color: blue, waist_size: 40, length: 38, price: 24.12\n",
    "color: tan, waist_size: 28, length: 30, price: 8.12\n",
    "```"
   ],
   "metadata": {}
  },
  {
   "cell_type": "code",
   "execution_count": 10,
   "source": [
    "pants_one = Pants('red', 35, 36, 15.12)\r\n",
    "pants_two = Pants('blue', 40, 38, 24.12)\r\n",
    "pants_three = Pants('tan', 28, 30, 8.12)\r\n",
    "\r\n",
    "salesperson = SalesPerson('Amy', 'Gonzalez', 2581923, 40000)\r\n",
    "\r\n",
    "salesperson.sell_pants(pants_one)    \r\n",
    "salesperson.sell_pants(pants_two)\r\n",
    "salesperson.sell_pants(pants_three)\r\n",
    "\r\n",
    "salesperson.display_sales()"
   ],
   "outputs": [
    {
     "output_type": "stream",
     "name": "stdout",
     "text": [
      "color: red, waist_size: 35, length: 36, price: 15.12\n",
      "color: blue, waist_size: 40, length: 38, price: 24.12\n",
      "color: tan, waist_size: 28, length: 30, price: 8.12\n"
     ]
    }
   ],
   "metadata": {}
  },
  {
   "cell_type": "markdown",
   "source": [
    "# Solution \n",
    "\n",
    "As a reminder, answers are also provided. If you click on the Jupyter icon, you can open a folder called 2.OOP_syntax_pants_practice, which contains this Jupyter notebook and a file called answer.py."
   ],
   "metadata": {}
  }
 ],
 "metadata": {
  "kernelspec": {
   "name": "python3",
   "display_name": "Python 3.9.7 64-bit"
  },
  "language_info": {
   "codemirror_mode": {
    "name": "ipython",
    "version": 3
   },
   "file_extension": ".py",
   "mimetype": "text/x-python",
   "name": "python",
   "nbconvert_exporter": "python",
   "pygments_lexer": "ipython3",
   "version": "3.9.7"
  },
  "interpreter": {
   "hash": "63fd5069d213b44bf678585dea6b12cceca9941eaf7f819626cde1f2670de90d"
  }
 },
 "nbformat": 4,
 "nbformat_minor": 2
}